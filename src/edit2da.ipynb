{
 "cells": [
  {
   "cell_type": "code",
   "execution_count": 1,
   "metadata": {},
   "outputs": [],
   "source": [
    "import os\n",
    "import sys\n",
    "from importnb import Notebook\n",
    "from typing import Optional, Union, List, Callable\n",
    "from io import BytesIO\n",
    "import struct\n",
    "import numpy as np\n",
    "import pandas as pd\n",
    "import re\n",
    "\n",
    "PKG_ROOT = os.path.dirname(os.path.realpath(os.getcwd()))\n",
    "if not PKG_ROOT in sys.path:\n",
    "    sys.path.append(PKG_ROOT)"
   ]
  },
  {
   "cell_type": "code",
   "execution_count": 2,
   "metadata": {},
   "outputs": [],
   "source": [
    "class Edit2DA:\n",
    "    \n",
    "    def __init__(self, name:str):\n",
    "        self.source = os.path.join(PKG_ROOT, 'resources/2da', name +'.2da')\n",
    "        self.target = os.path.join(PKG_ROOT, 'resources/modified', name +'.2da')\n",
    "        self.csv = os.path.join(PKG_ROOT, 'resources/modified', name +'.csv')\n",
    "        \n",
    "    def from_str(self, input:str):\n",
    "        with open(self.source, 'w') as s:\n",
    "            s.write(input)      \n",
    "            \n",
    "    def load(self):\n",
    "        with open(self.source, 'r') as s:\n",
    "            f = s.read()\n",
    "        self.text = f.split('\\n')\n",
    "        self.df = pd.DataFrame([_.split() for _ in self.text[3:]], columns=[''] + self.text[2].split())\n",
    "        self.default = self.text[1]\n",
    "        self.header = self.text[0]\n",
    "        self.df.to_csv(self.csv)\n",
    "        \n",
    "    def load_csv(self):\n",
    "        self.df = pd.read_csv(self.csv, index_col=0).rename(columns={'Unnamed: 1': ''})\n",
    "    \n",
    "    def save(self, from_csv:bool=True):\n",
    "        if from_csv:\n",
    "            self.load_csv()\n",
    "        text = [self.header, self.default, ' '.join(self.df.columns)] + [' '.join(_) for _ in self.df.astype(str).values]\n",
    "        with open(self.target, 'w') as s:\n",
    "            s.write('\\n'.join(text))    \n",
    "    \n",
    "              "
   ]
  },
  {
   "cell_type": "code",
   "execution_count": 93,
   "metadata": {},
   "outputs": [],
   "source": [
    "def parse_list(filename:str, pattern:re.Pattern=re.compile(r'(?P<ItemCode>[a-z0-9_]+)\\s+-\\s+(?P<Item>.*)')):\n",
    "    with open(filename, 'r') as s:\n",
    "        c = s.read()\n",
    "    cols = list(pattern.groupindex.keys())\n",
    "    df = pd.DataFrame(re.findall(pattern, c), columns=cols)\n",
    "    df[cols[1]] = df[cols[1]].apply(lambda x: re.sub('_+', '_', re.sub(r'[^a-zA-Z0-9]', '_', x.replace('+', '_PLUS').replace(\"'s\", ''))).strip().strip('_').upper())\n",
    "    df = df.drop_duplicates().groupby(cols[1]).apply(lambda x:x.reset_index(drop=True)).reset_index(level=1)\n",
    "    df[cols[1]] = df.apply(lambda x: x[cols[1]] if x['level_1']==0 else x[cols[1]] + '_' + str(x['level_1']), axis=1)\n",
    "    return df[cols].reset_index(drop=True)\n",
    "    \n",
    "    "
   ]
  },
  {
   "cell_type": "code",
   "execution_count": 72,
   "metadata": {},
   "outputs": [],
   "source": [
    "d = Edit2DA('allfeats')"
   ]
  },
  {
   "cell_type": "code",
   "execution_count": null,
   "metadata": {},
   "outputs": [],
   "source": []
  }
 ],
 "metadata": {
  "kernelspec": {
   "display_name": "pyworks",
   "language": "python",
   "name": "python3"
  },
  "language_info": {
   "codemirror_mode": {
    "name": "ipython",
    "version": 3
   },
   "file_extension": ".py",
   "mimetype": "text/x-python",
   "name": "python",
   "nbconvert_exporter": "python",
   "pygments_lexer": "ipython3",
   "version": "3.8.13"
  },
  "orig_nbformat": 4
 },
 "nbformat": 4,
 "nbformat_minor": 2
}
